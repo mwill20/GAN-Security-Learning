{
 "cells": [
  {
   "cell_type": "markdown",
   "metadata": {},
   "source": [
    "# Understanding GANs: Creating Fake Digits\n",
    "\n",
    "In this notebook, we'll learn about GANs by creating one that can draw numbers! \n",
    "\n",
    "## What's a GAN?\n",
    "Think of a GAN like two artists:\n",
    "1. The **Generator** is like a forger trying to create fake money\n",
    "2. The **Discriminator** is like a bank teller trying to spot fake money\n",
    "\n",
    "They learn from each other:\n",
    "- The forger gets better at making fakes\n",
    "- The teller gets better at spotting fakes\n",
    "\n",
    "## What We'll Build\n",
    "1. A Generator that creates fake handwritten digits\n",
    "2. A Discriminator that tries to tell real digits from fake ones\n",
    "3. A way to watch them learn in real-time!\n",
    "\n",
    "Let's start by checking our setup:"
   ]
  },
  {
   "cell_type": "code",
   "execution_count": 1,
   "metadata": {},
   "outputs": [
    {
     "name": "stdout",
     "output_type": "stream",
     "text": [
      "TensorFlow version: 2.18.0\n",
      "Is GPU available? False\n",
      "Downloading data from https://storage.googleapis.com/tensorflow/tf-keras-datasets/mnist.npz\n",
      "\u001b[1m11490434/11490434\u001b[0m \u001b[32m━━━━━━━━━━━━━━━━━━━━\u001b[0m\u001b[37m\u001b[0m \u001b[1m0s\u001b[0m 0us/step\n",
      "\n",
      "Dataset ready!\n",
      "We have 60000 training images\n"
     ]
    },
    {
     "data": {
      "image/png": "[encoded data removed]",
      "text/plain": [
       "<Figure size 640x480 with 1 Axes>"
      ]
     },
     "metadata": {},
     "output_type": "display_data"
    }
   ],
   "source": [
    "import tensorflow as tf\n",
    "import numpy as np\n",
    "import matplotlib.pyplot as plt\n",
    "\n",
    "print(\"TensorFlow version:\", tf.__version__)\n",
    "print(\"Is GPU available?\", len(tf.config.list_physical_devices('GPU')) > 0)\n",
    "\n",
    "# Load MNIST (the handwritten digit dataset)\n",
    "(train_images, _), (_, _) = tf.keras.datasets.mnist.load_data()\n",
    "\n",
    "# Prepare images (scale from [0,255] to [-1,1])\n",
    "train_images = (train_images - 127.5) / 127.5\n",
    "train_images = train_images.reshape(train_images.shape[0], 28, 28, 1)\n",
    "\n",
    "print(\"\\nDataset ready!\")\n",
    "print(f\"We have {len(train_images)} training images\")\n",
    "\n",
    "# Show a real digit\n",
    "plt.imshow(train_images[0].reshape(28,28), cmap='gray')\n",
    "plt.title(\"A Real Digit from MNIST\")\n",
    "plt.show()"
   ]
  }
 ],
 "metadata": {
  "kernelspec": {
   "display_name": "Neural Network",
   "language": "python",
   "name": "neural_network"
  },
  "language_info": {
   "codemirror_mode": {
    "name": "ipython",
    "version": 3
   },
   "file_extension": ".py",
   "mimetype": "text/x-python",
   "name": "python",
   "nbconvert_exporter": "python",
   "pygments_lexer": "ipython3",
   "version": "3.10.11"
  }
 },
 "nbformat": 4,
 "nbformat_minor": 4
}
